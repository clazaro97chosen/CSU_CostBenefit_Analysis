{
 "cells": [
  {
   "cell_type": "code",
   "execution_count": 4,
   "metadata": {
    "_cell_guid": "b1076dfc-b9ad-4769-8c92-a6c4dae69d19",
    "_uuid": "8f2839f25d086af736a60e9eeb907d3b93b6e0e5"
   },
   "outputs": [],
   "source": [
    "import numpy as np # linear algebra\n",
    "import pandas as pd # data processing, CSV file I/O (e.g. pd.read_csv)"
   ]
  },
  {
   "cell_type": "code",
   "execution_count": 5,
   "metadata": {
    "_cell_guid": "79c7e3d0-c299-4dcb-8224-4455121ee9b0",
    "_uuid": "d629ff2d2480ee46fbb7e2d37f6b5fab8052498a"
   },
   "outputs": [],
   "source": [
    "dfchurn = pd.read_csv(r'C:\\Users\\Crist\\Churn_Prediction\\Data\\unclean_data.csv')"
   ]
  },
  {
   "cell_type": "code",
   "execution_count": 3,
   "metadata": {
    "_kg_hide-input": true,
    "_kg_hide-output": true
   },
   "outputs": [],
   "source": [
    "dfchurn = dfchurn.rename(columns = {'FreshmanRetained':'Churn'})\n",
    "dfchurn['Churn'] = dfchurn['Churn'].replace({1:0,0:1})"
   ]
  },
  {
   "cell_type": "code",
   "execution_count": 4,
   "metadata": {},
   "outputs": [
    {
     "name": "stdout",
     "output_type": "stream",
     "text": [
      "<class 'pandas.core.frame.DataFrame'>\n",
      "RangeIndex: 21026 entries, 0 to 21025\n",
      "Data columns (total 14 columns):\n",
      "UNIQUE_ID         21026 non-null int64\n",
      "COHORT            21026 non-null object\n",
      "NATIVE_COLLEGE    21026 non-null object\n",
      "GENDER            21021 non-null object\n",
      "ETHNICITY         21025 non-null object\n",
      "RESIDENCY         21026 non-null object\n",
      "AOA_RSNCODE       21026 non-null object\n",
      "MothersEd         20285 non-null float64\n",
      "FathersEd         20103 non-null float64\n",
      "HS_GPA            20601 non-null float64\n",
      "PARTNER_SCHOOL    21026 non-null object\n",
      "SATRead           20931 non-null float64\n",
      "SATMath           20928 non-null float64\n",
      "Churn             21026 non-null int64\n",
      "dtypes: float64(5), int64(2), object(7)\n",
      "memory usage: 2.2+ MB\n"
     ]
    }
   ],
   "source": [
    "dfchurn.info()"
   ]
  },
  {
   "cell_type": "code",
   "execution_count": 5,
   "metadata": {},
   "outputs": [
    {
     "data": {
      "text/plain": [
       "array(['FTF_2108', 'FTF_2118', 'FTF_2128', 'FTF_2138', 'FTF_2148'],\n",
       "      dtype=object)"
      ]
     },
     "execution_count": 5,
     "metadata": {},
     "output_type": "execute_result"
    }
   ],
   "source": [
    "dfchurn.COHORT.unique()"
   ]
  },
  {
   "cell_type": "markdown",
   "metadata": {},
   "source": [
    "Making a neater format for `COHORT`"
   ]
  },
  {
   "cell_type": "code",
   "execution_count": 6,
   "metadata": {},
   "outputs": [],
   "source": [
    "dfchurn['COHORT'] = dfchurn['COHORT'].replace({'FTF_2108':'2010', 'FTF_2118':'2011', 'FTF_2128':'2012', 'FTF_2138':'2013', 'FTF_2148':'2014'})"
   ]
  },
  {
   "cell_type": "code",
   "execution_count": 7,
   "metadata": {},
   "outputs": [
    {
     "data": {
      "text/plain": [
       "array(['2010', '2011', '2012', '2013', '2014'], dtype=object)"
      ]
     },
     "execution_count": 7,
     "metadata": {},
     "output_type": "execute_result"
    }
   ],
   "source": [
    "dfchurn['COHORT'].unique()"
   ]
  },
  {
   "cell_type": "code",
   "execution_count": 8,
   "metadata": {},
   "outputs": [
    {
     "name": "stdout",
     "output_type": "stream",
     "text": [
      "NATIVE_COLLEGE ['BUS' 'LA' 'ENG' 'SM' 'AGR' 'DES']\n",
      "GENDER ['F' 'M' nan]\n",
      "ETHNICITY ['WHITE' 'HISPA' 'ASIAN' 'TWOMORE' 'DECLINE' 'BLACK' 'AMIND' nan]\n",
      "RESIDENCY ['Resident' 'Non Res' 'Foreign Co']\n",
      "AOA_RSNCODE ['Mand' 'Acad' 'Other' 'Early' 'Adm']\n",
      "MothersEd [ 6.  7.  4.  5.  3. nan  1.  2.]\n",
      "FathersEd [ 6.  5.  7.  4.  1. nan  3.  2.]\n"
     ]
    }
   ],
   "source": [
    "for col in dfchurn.columns[2:9]:\n",
    "    print(col,dfchurn[col].unique())"
   ]
  },
  {
   "cell_type": "markdown",
   "metadata": {},
   "source": [
    "Above columns look good. "
   ]
  },
  {
   "cell_type": "code",
   "execution_count": 9,
   "metadata": {},
   "outputs": [
    {
     "data": {
      "text/plain": [
       "<matplotlib.axes._subplots.AxesSubplot at 0x7f5199624668>"
      ]
     },
     "execution_count": 9,
     "metadata": {},
     "output_type": "execute_result"
    },
    {
     "data": {
      "image/png": "[encoded data removed]",
      "text/plain": [
       "<Figure size 432x288 with 1 Axes>"
      ]
     },
     "metadata": {
      "needs_background": "light"
     },
     "output_type": "display_data"
    }
   ],
   "source": [
    "dfchurn['HS_GPA'].plot.hist()"
   ]
  },
  {
   "cell_type": "code",
   "execution_count": 10,
   "metadata": {},
   "outputs": [
    {
     "data": {
      "text/html": [
       "<div>\n",
       "<style scoped>\n",
       "    .dataframe tbody tr th:only-of-type {\n",
       "        vertical-align: middle;\n",
       "    }\n",
       "\n",
       "    .dataframe tbody tr th {\n",
       "        vertical-align: top;\n",
       "    }\n",
       "\n",
       "    .dataframe thead th {\n",
       "        text-align: right;\n",
       "    }\n",
       "</style>\n",
       "<table border=\"1\" class=\"dataframe\">\n",
       "  <thead>\n",
       "    <tr style=\"text-align: right;\">\n",
       "      <th></th>\n",
       "      <th>UNIQUE_ID</th>\n",
       "      <th>COHORT</th>\n",
       "      <th>NATIVE_COLLEGE</th>\n",
       "      <th>GENDER</th>\n",
       "      <th>ETHNICITY</th>\n",
       "      <th>RESIDENCY</th>\n",
       "      <th>AOA_RSNCODE</th>\n",
       "      <th>MothersEd</th>\n",
       "      <th>FathersEd</th>\n",
       "      <th>HS_GPA</th>\n",
       "      <th>PARTNER_SCHOOL</th>\n",
       "      <th>SATRead</th>\n",
       "      <th>SATMath</th>\n",
       "      <th>Churn</th>\n",
       "    </tr>\n",
       "  </thead>\n",
       "  <tbody>\n",
       "    <tr>\n",
       "      <td>12</td>\n",
       "      <td>13771427</td>\n",
       "      <td>2010</td>\n",
       "      <td>DES</td>\n",
       "      <td>M</td>\n",
       "      <td>HISPA</td>\n",
       "      <td>Resident</td>\n",
       "      <td>Other</td>\n",
       "      <td>4.0</td>\n",
       "      <td>1.0</td>\n",
       "      <td>NaN</td>\n",
       "      <td>No</td>\n",
       "      <td>450.0</td>\n",
       "      <td>600.0</td>\n",
       "      <td>0</td>\n",
       "    </tr>\n",
       "    <tr>\n",
       "      <td>99</td>\n",
       "      <td>121212163</td>\n",
       "      <td>2010</td>\n",
       "      <td>ENG</td>\n",
       "      <td>M</td>\n",
       "      <td>WHITE</td>\n",
       "      <td>Resident</td>\n",
       "      <td>Acad</td>\n",
       "      <td>7.0</td>\n",
       "      <td>7.0</td>\n",
       "      <td>NaN</td>\n",
       "      <td>No</td>\n",
       "      <td>570.0</td>\n",
       "      <td>510.0</td>\n",
       "      <td>0</td>\n",
       "    </tr>\n",
       "    <tr>\n",
       "      <td>118</td>\n",
       "      <td>139484780</td>\n",
       "      <td>2010</td>\n",
       "      <td>SM</td>\n",
       "      <td>M</td>\n",
       "      <td>WHITE</td>\n",
       "      <td>Resident</td>\n",
       "      <td>Mand</td>\n",
       "      <td>6.0</td>\n",
       "      <td>7.0</td>\n",
       "      <td>NaN</td>\n",
       "      <td>No</td>\n",
       "      <td>520.0</td>\n",
       "      <td>590.0</td>\n",
       "      <td>0</td>\n",
       "    </tr>\n",
       "    <tr>\n",
       "      <td>160</td>\n",
       "      <td>192436989</td>\n",
       "      <td>2010</td>\n",
       "      <td>BUS</td>\n",
       "      <td>M</td>\n",
       "      <td>TWOMORE</td>\n",
       "      <td>Resident</td>\n",
       "      <td>Other</td>\n",
       "      <td>4.0</td>\n",
       "      <td>4.0</td>\n",
       "      <td>NaN</td>\n",
       "      <td>No</td>\n",
       "      <td>540.0</td>\n",
       "      <td>550.0</td>\n",
       "      <td>0</td>\n",
       "    </tr>\n",
       "    <tr>\n",
       "      <td>182</td>\n",
       "      <td>216580175</td>\n",
       "      <td>2010</td>\n",
       "      <td>LA</td>\n",
       "      <td>F</td>\n",
       "      <td>WHITE</td>\n",
       "      <td>Resident</td>\n",
       "      <td>Acad</td>\n",
       "      <td>6.0</td>\n",
       "      <td>7.0</td>\n",
       "      <td>NaN</td>\n",
       "      <td>No</td>\n",
       "      <td>650.0</td>\n",
       "      <td>600.0</td>\n",
       "      <td>0</td>\n",
       "    </tr>\n",
       "  </tbody>\n",
       "</table>\n",
       "</div>"
      ],
      "text/plain": [
       "     UNIQUE_ID COHORT NATIVE_COLLEGE GENDER ETHNICITY RESIDENCY AOA_RSNCODE  \\\n",
       "12    13771427   2010            DES      M     HISPA  Resident       Other   \n",
       "99   121212163   2010            ENG      M     WHITE  Resident        Acad   \n",
       "118  139484780   2010             SM      M     WHITE  Resident        Mand   \n",
       "160  192436989   2010            BUS      M   TWOMORE  Resident       Other   \n",
       "182  216580175   2010             LA      F     WHITE  Resident        Acad   \n",
       "\n",
       "     MothersEd  FathersEd  HS_GPA PARTNER_SCHOOL  SATRead  SATMath  Churn  \n",
       "12         4.0        1.0     NaN             No    450.0    600.0      0  \n",
       "99         7.0        7.0     NaN             No    570.0    510.0      0  \n",
       "118        6.0        7.0     NaN             No    520.0    590.0      0  \n",
       "160        4.0        4.0     NaN             No    540.0    550.0      0  \n",
       "182        6.0        7.0     NaN             No    650.0    600.0      0  "
      ]
     },
     "execution_count": 10,
     "metadata": {},
     "output_type": "execute_result"
    }
   ],
   "source": [
    "dfchurn.loc[dfchurn['HS_GPA'].isnull()].head()"
   ]
  },
  {
   "cell_type": "markdown",
   "metadata": {},
   "source": [
    "The `HS_GPA` column has missing values and values with 0s. We will work with the assumption that 0s have some meaning and create an indicator variable."
   ]
  },
  {
   "cell_type": "code",
   "execution_count": 11,
   "metadata": {},
   "outputs": [
    {
     "data": {
      "text/plain": [
       "array(['No', 'Yes'], dtype=object)"
      ]
     },
     "execution_count": 11,
     "metadata": {},
     "output_type": "execute_result"
    }
   ],
   "source": [
    "dfchurn.PARTNER_SCHOOL.unique()"
   ]
  },
  {
   "cell_type": "code",
   "execution_count": 12,
   "metadata": {},
   "outputs": [
    {
     "data": {
      "text/plain": [
       "<matplotlib.axes._subplots.AxesSubplot at 0x7f5199514a90>"
      ]
     },
     "execution_count": 12,
     "metadata": {},
     "output_type": "execute_result"
    },
    {
     "data": {
      "image/png": "[encoded data removed]",
      "text/plain": [
       "<Figure size 432x288 with 1 Axes>"
      ]
     },
     "metadata": {
      "needs_background": "light"
     },
     "output_type": "display_data"
    }
   ],
   "source": [
    "dfchurn.SATRead.plot.hist()"
   ]
  },
  {
   "cell_type": "code",
   "execution_count": 13,
   "metadata": {},
   "outputs": [
    {
     "data": {
      "text/plain": [
       "<matplotlib.axes._subplots.AxesSubplot at 0x7f51994979b0>"
      ]
     },
     "execution_count": 13,
     "metadata": {},
     "output_type": "execute_result"
    },
    {
     "data": {
      "image/png": "[encoded data removed]",
      "text/plain": [
       "<Figure size 432x288 with 1 Axes>"
      ]
     },
     "metadata": {
      "needs_background": "light"
     },
     "output_type": "display_data"
    }
   ],
   "source": [
    "dfchurn.SATMath.plot.hist()"
   ]
  },
  {
   "cell_type": "code",
   "execution_count": 14,
   "metadata": {},
   "outputs": [
    {
     "data": {
      "text/plain": [
       "([<matplotlib.axis.XTick at 0x7f519938ccf8>,\n",
       "  <matplotlib.axis.XTick at 0x7f519938c630>],\n",
       " <a list of 2 Text xticklabel objects>)"
      ]
     },
     "execution_count": 14,
     "metadata": {},
     "output_type": "execute_result"
    },
    {
     "data": {
      "image/png": "[encoded data removed]",
      "text/plain": [
       "<Figure size 432x288 with 1 Axes>"
      ]
     },
     "metadata": {
      "needs_background": "light"
     },
     "output_type": "display_data"
    }
   ],
   "source": [
    "from matplotlib import pyplot as plt\n",
    "plt.bar(dfchurn.Churn.unique(),dfchurn.Churn.value_counts()/len(dfchurn.Churn))\n",
    "plt.xticks(np.array([0,1]))"
   ]
  },
  {
   "cell_type": "code",
   "execution_count": 15,
   "metadata": {},
   "outputs": [
    {
     "data": {
      "text/plain": [
       "array(['2010', '2011', '2012', '2013', '2014'], dtype=object)"
      ]
     },
     "execution_count": 15,
     "metadata": {},
     "output_type": "execute_result"
    }
   ],
   "source": [
    "dfchurn.COHORT.unique()"
   ]
  },
  {
   "cell_type": "code",
   "execution_count": 16,
   "metadata": {},
   "outputs": [],
   "source": [
    "dfchurn.to_csv('10_14_Churn.csv')"
   ]
  }
 ],
 "metadata": {
  "kernelspec": {
   "display_name": "Python 3",
   "language": "python",
   "name": "python3"
  },
  "language_info": {
   "codemirror_mode": {
    "name": "ipython",
    "version": 3
   },
   "file_extension": ".py",
   "mimetype": "text/x-python",
   "name": "python",
   "nbconvert_exporter": "python",
   "pygments_lexer": "ipython3",
   "version": "3.7.4"
  }
 },
 "nbformat": 4,
 "nbformat_minor": 1
}
