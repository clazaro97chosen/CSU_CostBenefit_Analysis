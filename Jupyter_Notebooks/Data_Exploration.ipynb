{
 "cells": [
  {
   "cell_type": "markdown",
   "metadata": {},
   "source": [
    "# Data Exploration"
   ]
  },
  {
   "cell_type": "markdown",
   "metadata": {},
   "source": [
    "Proper exploratory analysis is about answering questions. Exploratory data analysis was promoted by John Tukey to encourage statisticians to explore the data, and possibly formulate hypotheses that could lead to new data collection and experiments\n",
    "\n",
    "Exploratory analysis helps you \"get to know\" the dataset. Doing so upfront will make the rest of the project much smoother, in 3 main ways:\n",
    "\n",
    "* You’ll gain valuable hints for Data Cleaning (which can make or break your models).\n",
    "* You’ll think of ideas for Feature Engineering (which can take your models from good to great).\n",
    "* You’ll get a \"feel\" for the dataset, which will help you communicate results and deliver greater impact.\n",
    "***source:https://elitedatascience.com/exploratory-analysis***"
   ]
  },
  {
   "cell_type": "code",
   "execution_count": 2,
   "metadata": {
    "_cell_guid": "79c7e3d0-c299-4dcb-8224-4455121ee9b0",
    "_uuid": "d629ff2d2480ee46fbb7e2d37f6b5fab8052498a"
   },
   "outputs": [],
   "source": [
    "eda_df = pd.read_csv('../input/eda_data.csv',index_col=0)"
   ]
  },
  {
   "cell_type": "code",
   "execution_count": 3,
   "metadata": {},
   "outputs": [],
   "source": [
    "eda_df.set_index('UNIQUE_ID',inplace = True)"
   ]
  },
  {
   "cell_type": "code",
   "execution_count": 4,
   "metadata": {},
   "outputs": [
    {
     "data": {
      "text/html": [
       "<div>\n",
       "<style scoped>\n",
       "    .dataframe tbody tr th:only-of-type {\n",
       "        vertical-align: middle;\n",
       "    }\n",
       "\n",
       "    .dataframe tbody tr th {\n",
       "        vertical-align: top;\n",
       "    }\n",
       "\n",
       "    .dataframe thead th {\n",
       "        text-align: right;\n",
       "    }\n",
       "</style>\n",
       "<table border=\"1\" class=\"dataframe\">\n",
       "  <thead>\n",
       "    <tr style=\"text-align: right;\">\n",
       "      <th></th>\n",
       "      <th>COHORT</th>\n",
       "      <th>NATIVE_COLLEGE</th>\n",
       "      <th>GENDER</th>\n",
       "      <th>ETHNICITY</th>\n",
       "      <th>RESIDENCY</th>\n",
       "      <th>AOA_RSNCODE</th>\n",
       "      <th>MothersEd</th>\n",
       "      <th>FathersEd</th>\n",
       "      <th>HS_GPA</th>\n",
       "      <th>PARTNER_SCHOOL</th>\n",
       "      <th>SATRead</th>\n",
       "      <th>SATMath</th>\n",
       "      <th>Churn</th>\n",
       "    </tr>\n",
       "    <tr>\n",
       "      <th>UNIQUE_ID</th>\n",
       "      <th></th>\n",
       "      <th></th>\n",
       "      <th></th>\n",
       "      <th></th>\n",
       "      <th></th>\n",
       "      <th></th>\n",
       "      <th></th>\n",
       "      <th></th>\n",
       "      <th></th>\n",
       "      <th></th>\n",
       "      <th></th>\n",
       "      <th></th>\n",
       "      <th></th>\n",
       "    </tr>\n",
       "  </thead>\n",
       "  <tbody>\n",
       "    <tr>\n",
       "      <td>3512068855</td>\n",
       "      <td>2012</td>\n",
       "      <td>LA</td>\n",
       "      <td>F</td>\n",
       "      <td>TWOMORE</td>\n",
       "      <td>Resident</td>\n",
       "      <td>Acad</td>\n",
       "      <td>5.0</td>\n",
       "      <td>6.0</td>\n",
       "      <td>4.143</td>\n",
       "      <td>No</td>\n",
       "      <td>590.0</td>\n",
       "      <td>580.0</td>\n",
       "      <td>0</td>\n",
       "    </tr>\n",
       "    <tr>\n",
       "      <td>27023197</td>\n",
       "      <td>2013</td>\n",
       "      <td>SM</td>\n",
       "      <td>F</td>\n",
       "      <td>WHITE</td>\n",
       "      <td>Non Res</td>\n",
       "      <td>Acad</td>\n",
       "      <td>7.0</td>\n",
       "      <td>6.0</td>\n",
       "      <td>4.000</td>\n",
       "      <td>No</td>\n",
       "      <td>650.0</td>\n",
       "      <td>560.0</td>\n",
       "      <td>0</td>\n",
       "    </tr>\n",
       "    <tr>\n",
       "      <td>3470821689</td>\n",
       "      <td>2014</td>\n",
       "      <td>AGR</td>\n",
       "      <td>F</td>\n",
       "      <td>WHITE</td>\n",
       "      <td>Resident</td>\n",
       "      <td>Early</td>\n",
       "      <td>7.0</td>\n",
       "      <td>6.0</td>\n",
       "      <td>4.050</td>\n",
       "      <td>No</td>\n",
       "      <td>480.0</td>\n",
       "      <td>630.0</td>\n",
       "      <td>0</td>\n",
       "    </tr>\n",
       "    <tr>\n",
       "      <td>161313321</td>\n",
       "      <td>2014</td>\n",
       "      <td>ENG</td>\n",
       "      <td>M</td>\n",
       "      <td>WHITE</td>\n",
       "      <td>Non Res</td>\n",
       "      <td>Early</td>\n",
       "      <td>NaN</td>\n",
       "      <td>NaN</td>\n",
       "      <td>3.830</td>\n",
       "      <td>No</td>\n",
       "      <td>550.0</td>\n",
       "      <td>700.0</td>\n",
       "      <td>0</td>\n",
       "    </tr>\n",
       "    <tr>\n",
       "      <td>3558096629</td>\n",
       "      <td>2014</td>\n",
       "      <td>ENG</td>\n",
       "      <td>M</td>\n",
       "      <td>WHITE</td>\n",
       "      <td>Resident</td>\n",
       "      <td>Acad</td>\n",
       "      <td>6.0</td>\n",
       "      <td>6.0</td>\n",
       "      <td>4.100</td>\n",
       "      <td>No</td>\n",
       "      <td>590.0</td>\n",
       "      <td>660.0</td>\n",
       "      <td>0</td>\n",
       "    </tr>\n",
       "  </tbody>\n",
       "</table>\n",
       "</div>"
      ],
      "text/plain": [
       "            COHORT NATIVE_COLLEGE GENDER ETHNICITY RESIDENCY AOA_RSNCODE  \\\n",
       "UNIQUE_ID                                                                  \n",
       "3512068855    2012             LA      F   TWOMORE  Resident        Acad   \n",
       "27023197      2013             SM      F     WHITE   Non Res        Acad   \n",
       "3470821689    2014            AGR      F     WHITE  Resident       Early   \n",
       "161313321     2014            ENG      M     WHITE   Non Res       Early   \n",
       "3558096629    2014            ENG      M     WHITE  Resident        Acad   \n",
       "\n",
       "            MothersEd  FathersEd  HS_GPA PARTNER_SCHOOL  SATRead  SATMath  \\\n",
       "UNIQUE_ID                                                                   \n",
       "3512068855        5.0        6.0   4.143             No    590.0    580.0   \n",
       "27023197          7.0        6.0   4.000             No    650.0    560.0   \n",
       "3470821689        7.0        6.0   4.050             No    480.0    630.0   \n",
       "161313321         NaN        NaN   3.830             No    550.0    700.0   \n",
       "3558096629        6.0        6.0   4.100             No    590.0    660.0   \n",
       "\n",
       "            Churn  \n",
       "UNIQUE_ID          \n",
       "3512068855      0  \n",
       "27023197        0  \n",
       "3470821689      0  \n",
       "161313321       0  \n",
       "3558096629      0  "
      ]
     },
     "execution_count": 4,
     "metadata": {},
     "output_type": "execute_result"
    }
   ],
   "source": [
    "eda_df.head()"
   ]
  },
  {
   "cell_type": "code",
   "execution_count": 5,
   "metadata": {},
   "outputs": [],
   "source": [
    "\n",
    "churn_mask = eda_df['Churn'] == 1\n",
    "churn_data = eda_df.loc[eda_df.Churn == 1].copy()\n",
    "no_churn_data = eda_df.loc[eda_df.Churn == 0].copy()"
   ]
  },
  {
   "cell_type": "code",
   "execution_count": 6,
   "metadata": {},
   "outputs": [
    {
     "data": {
      "text/plain": [
       "960"
      ]
     },
     "execution_count": 6,
     "metadata": {},
     "output_type": "execute_result"
    }
   ],
   "source": [
    "eda_df.loc[churn_mask].shape[0]"
   ]
  },
  {
   "cell_type": "code",
   "execution_count": 7,
   "metadata": {},
   "outputs": [
    {
     "data": {
      "text/plain": [
       "15860"
      ]
     },
     "execution_count": 7,
     "metadata": {},
     "output_type": "execute_result"
    }
   ],
   "source": [
    "no_churn_data.shape[0]"
   ]
  },
  {
   "cell_type": "markdown",
   "metadata": {},
   "source": [
    "Looking at the representation of colleges for students who did and did not churn."
   ]
  },
  {
   "cell_type": "code",
   "execution_count": 8,
   "metadata": {},
   "outputs": [],
   "source": [
    "\n",
    "college_group =pd.pivot_table(eda_df.loc[churn_mask],values = ['Churn'],index = ['NATIVE_COLLEGE'],columns = 'GENDER',aggfunc = sum,margins = True)\n",
    "college_one_percentage = np.round(college_group*100/college_group.iloc[-1, -1], 1)\n",
    "college_pass = pd.crosstab(no_churn_data.NATIVE_COLLEGE,no_churn_data.GENDER,margins=True)\n",
    "college_pass = np.round(college_pass*100/college_pass.iloc[-1, -1], 1)"
   ]
  },
  {
   "cell_type": "code",
   "execution_count": 9,
   "metadata": {},
   "outputs": [
    {
     "name": "stderr",
     "output_type": "stream",
     "text": [
      "/opt/conda/lib/python3.6/site-packages/pandas/core/reshape/merge.py:617: UserWarning: merging between different levels can give an unintended result (2 levels on the left, 1 on the right)\n",
      "  warnings.warn(msg, UserWarning)\n"
     ]
    },
    {
     "data": {
      "text/html": [
       "<div>\n",
       "<style scoped>\n",
       "    .dataframe tbody tr th:only-of-type {\n",
       "        vertical-align: middle;\n",
       "    }\n",
       "\n",
       "    .dataframe tbody tr th {\n",
       "        vertical-align: top;\n",
       "    }\n",
       "\n",
       "    .dataframe thead th {\n",
       "        text-align: right;\n",
       "    }\n",
       "</style>\n",
       "<table border=\"1\" class=\"dataframe\">\n",
       "  <thead>\n",
       "    <tr style=\"text-align: right;\">\n",
       "      <th></th>\n",
       "      <th>(Churn, F)</th>\n",
       "      <th>(Churn, M)</th>\n",
       "      <th>(Churn, All)</th>\n",
       "      <th>F</th>\n",
       "      <th>M</th>\n",
       "      <th>All</th>\n",
       "    </tr>\n",
       "    <tr>\n",
       "      <th>NATIVE_COLLEGE</th>\n",
       "      <th></th>\n",
       "      <th></th>\n",
       "      <th></th>\n",
       "      <th></th>\n",
       "      <th></th>\n",
       "      <th></th>\n",
       "    </tr>\n",
       "  </thead>\n",
       "  <tbody>\n",
       "    <tr>\n",
       "      <td>AGR</td>\n",
       "      <td>11.7</td>\n",
       "      <td>10.9</td>\n",
       "      <td>22.6</td>\n",
       "      <td>11.5</td>\n",
       "      <td>8.1</td>\n",
       "      <td>19.7</td>\n",
       "    </tr>\n",
       "    <tr>\n",
       "      <td>BUS</td>\n",
       "      <td>4.5</td>\n",
       "      <td>6.7</td>\n",
       "      <td>11.1</td>\n",
       "      <td>6.3</td>\n",
       "      <td>8.0</td>\n",
       "      <td>14.3</td>\n",
       "    </tr>\n",
       "    <tr>\n",
       "      <td>DES</td>\n",
       "      <td>3.4</td>\n",
       "      <td>5.1</td>\n",
       "      <td>8.5</td>\n",
       "      <td>3.6</td>\n",
       "      <td>4.7</td>\n",
       "      <td>8.3</td>\n",
       "    </tr>\n",
       "    <tr>\n",
       "      <td>ENG</td>\n",
       "      <td>5.3</td>\n",
       "      <td>21.9</td>\n",
       "      <td>27.2</td>\n",
       "      <td>6.1</td>\n",
       "      <td>22.7</td>\n",
       "      <td>28.8</td>\n",
       "    </tr>\n",
       "    <tr>\n",
       "      <td>LA</td>\n",
       "      <td>9.0</td>\n",
       "      <td>4.5</td>\n",
       "      <td>13.4</td>\n",
       "      <td>11.3</td>\n",
       "      <td>4.3</td>\n",
       "      <td>15.6</td>\n",
       "    </tr>\n",
       "    <tr>\n",
       "      <td>SM</td>\n",
       "      <td>7.6</td>\n",
       "      <td>9.5</td>\n",
       "      <td>17.1</td>\n",
       "      <td>8.3</td>\n",
       "      <td>5.1</td>\n",
       "      <td>13.4</td>\n",
       "    </tr>\n",
       "    <tr>\n",
       "      <td>All</td>\n",
       "      <td>41.5</td>\n",
       "      <td>58.5</td>\n",
       "      <td>100.0</td>\n",
       "      <td>47.1</td>\n",
       "      <td>52.9</td>\n",
       "      <td>100.0</td>\n",
       "    </tr>\n",
       "  </tbody>\n",
       "</table>\n",
       "</div>"
      ],
      "text/plain": [
       "                (Churn, F)  (Churn, M)  (Churn, All)     F     M    All\n",
       "NATIVE_COLLEGE                                                         \n",
       "AGR                   11.7        10.9          22.6  11.5   8.1   19.7\n",
       "BUS                    4.5         6.7          11.1   6.3   8.0   14.3\n",
       "DES                    3.4         5.1           8.5   3.6   4.7    8.3\n",
       "ENG                    5.3        21.9          27.2   6.1  22.7   28.8\n",
       "LA                     9.0         4.5          13.4  11.3   4.3   15.6\n",
       "SM                     7.6         9.5          17.1   8.3   5.1   13.4\n",
       "All                   41.5        58.5         100.0  47.1  52.9  100.0"
      ]
     },
     "execution_count": 9,
     "metadata": {},
     "output_type": "execute_result"
    }
   ],
   "source": [
    "pd.merge(college_one_percentage,college_pass,'left',on = 'NATIVE_COLLEGE')"
   ]
  },
  {
   "cell_type": "markdown",
   "metadata": {},
   "source": [
    "We merged two pivot tables together to compare the proportions \n",
    "of students who churn and who dont churn from their respective \n",
    "college. \n",
    "Two observations:\n",
    " * Out of the students who churn  22.6 percent are from the college of agriculture across the 4 years vs out of the students who do not churn the 19.7 % are from the college of agriculture \n",
    " * Out of the students who churn 17.1 percent are from the college of science and math across the 4 years vs out of the students who do not churn the 13.4 % are from the college of science and math."
   ]
  },
  {
   "cell_type": "markdown",
   "metadata": {},
   "source": [
    "Academics"
   ]
  },
  {
   "cell_type": "code",
   "execution_count": 10,
   "metadata": {},
   "outputs": [],
   "source": [
    "acad_churn =pd.pivot_table(eda_df.loc[churn_mask],index = ['NATIVE_COLLEGE'],values =['HS_GPA','SATRead','SATMath'],aggfunc = 'mean')\n",
    "\n",
    "acad_pass = pd.pivot_table(no_churn_data , index = ['NATIVE_COLLEGE'],values = ['HS_GPA','SATRead',\"SATMath\"],aggfunc = 'mean')\n",
    "acad_pt = pd.merge(acad_churn,acad_pass ,'left',on = \"NATIVE_COLLEGE\",suffixes=('_churned','_persisted'))"
   ]
  },
  {
   "cell_type": "code",
   "execution_count": 11,
   "metadata": {},
   "outputs": [
    {
     "data": {
      "text/html": [
       "<div>\n",
       "<style scoped>\n",
       "    .dataframe tbody tr th:only-of-type {\n",
       "        vertical-align: middle;\n",
       "    }\n",
       "\n",
       "    .dataframe tbody tr th {\n",
       "        vertical-align: top;\n",
       "    }\n",
       "\n",
       "    .dataframe thead th {\n",
       "        text-align: right;\n",
       "    }\n",
       "</style>\n",
       "<table border=\"1\" class=\"dataframe\">\n",
       "  <thead>\n",
       "    <tr style=\"text-align: right;\">\n",
       "      <th></th>\n",
       "      <th>HS_GPA_churned</th>\n",
       "      <th>HS_GPA_persisted</th>\n",
       "      <th>SATMath_churned</th>\n",
       "      <th>SATMath_persisted</th>\n",
       "      <th>SATRead_churned</th>\n",
       "      <th>SATRead_persisted</th>\n",
       "    </tr>\n",
       "    <tr>\n",
       "      <th>NATIVE_COLLEGE</th>\n",
       "      <th></th>\n",
       "      <th></th>\n",
       "      <th></th>\n",
       "      <th></th>\n",
       "      <th></th>\n",
       "      <th></th>\n",
       "    </tr>\n",
       "  </thead>\n",
       "  <tbody>\n",
       "    <tr>\n",
       "      <td>AGR</td>\n",
       "      <td>3.565804</td>\n",
       "      <td>3.713578</td>\n",
       "      <td>581.805556</td>\n",
       "      <td>589.720167</td>\n",
       "      <td>571.064815</td>\n",
       "      <td>571.672026</td>\n",
       "    </tr>\n",
       "    <tr>\n",
       "      <td>BUS</td>\n",
       "      <td>3.672276</td>\n",
       "      <td>3.849007</td>\n",
       "      <td>630.560748</td>\n",
       "      <td>639.202481</td>\n",
       "      <td>591.495327</td>\n",
       "      <td>599.747452</td>\n",
       "    </tr>\n",
       "    <tr>\n",
       "      <td>DES</td>\n",
       "      <td>3.761646</td>\n",
       "      <td>3.816641</td>\n",
       "      <td>625.696203</td>\n",
       "      <td>646.213292</td>\n",
       "      <td>601.518987</td>\n",
       "      <td>597.318393</td>\n",
       "    </tr>\n",
       "    <tr>\n",
       "      <td>ENG</td>\n",
       "      <td>3.812691</td>\n",
       "      <td>3.975567</td>\n",
       "      <td>662.769231</td>\n",
       "      <td>688.327097</td>\n",
       "      <td>609.423077</td>\n",
       "      <td>625.939701</td>\n",
       "    </tr>\n",
       "    <tr>\n",
       "      <td>LA</td>\n",
       "      <td>3.648904</td>\n",
       "      <td>3.768917</td>\n",
       "      <td>569.140625</td>\n",
       "      <td>597.828201</td>\n",
       "      <td>588.203125</td>\n",
       "      <td>601.393841</td>\n",
       "    </tr>\n",
       "    <tr>\n",
       "      <td>SM</td>\n",
       "      <td>3.721541</td>\n",
       "      <td>3.892869</td>\n",
       "      <td>621.666667</td>\n",
       "      <td>636.666667</td>\n",
       "      <td>578.703704</td>\n",
       "      <td>597.026390</td>\n",
       "    </tr>\n",
       "  </tbody>\n",
       "</table>\n",
       "</div>"
      ],
      "text/plain": [
       "                HS_GPA_churned  HS_GPA_persisted  SATMath_churned  \\\n",
       "NATIVE_COLLEGE                                                      \n",
       "AGR                   3.565804          3.713578       581.805556   \n",
       "BUS                   3.672276          3.849007       630.560748   \n",
       "DES                   3.761646          3.816641       625.696203   \n",
       "ENG                   3.812691          3.975567       662.769231   \n",
       "LA                    3.648904          3.768917       569.140625   \n",
       "SM                    3.721541          3.892869       621.666667   \n",
       "\n",
       "                SATMath_persisted  SATRead_churned  SATRead_persisted  \n",
       "NATIVE_COLLEGE                                                         \n",
       "AGR                    589.720167       571.064815         571.672026  \n",
       "BUS                    639.202481       591.495327         599.747452  \n",
       "DES                    646.213292       601.518987         597.318393  \n",
       "ENG                    688.327097       609.423077         625.939701  \n",
       "LA                     597.828201       588.203125         601.393841  \n",
       "SM                     636.666667       578.703704         597.026390  "
      ]
     },
     "execution_count": 11,
     "metadata": {},
     "output_type": "execute_result"
    }
   ],
   "source": [
    "acad_pt.sort_index(axis =1)"
   ]
  },
  {
   "cell_type": "markdown",
   "metadata": {},
   "source": [
    "Across the board with the exclusion of students from the college of Design (SATREAD_churned vs SATRead_persisted) academic attributes tend to be lower for individuals who churn."
   ]
  },
  {
   "cell_type": "markdown",
   "metadata": {},
   "source": [
    "Parents Education"
   ]
  },
  {
   "cell_type": "code",
   "execution_count": 12,
   "metadata": {},
   "outputs": [
    {
     "data": {
      "text/html": [
       "<div>\n",
       "<style scoped>\n",
       "    .dataframe tbody tr th:only-of-type {\n",
       "        vertical-align: middle;\n",
       "    }\n",
       "\n",
       "    .dataframe tbody tr th {\n",
       "        vertical-align: top;\n",
       "    }\n",
       "\n",
       "    .dataframe thead th {\n",
       "        text-align: right;\n",
       "    }\n",
       "</style>\n",
       "<table border=\"1\" class=\"dataframe\">\n",
       "  <thead>\n",
       "    <tr style=\"text-align: right;\">\n",
       "      <th>ETHNICITY</th>\n",
       "      <th>AMIND</th>\n",
       "      <th>ASIAN</th>\n",
       "      <th>BLACK</th>\n",
       "      <th>DECLINE</th>\n",
       "      <th>HISPA</th>\n",
       "      <th>TWOMORE</th>\n",
       "      <th>WHITE</th>\n",
       "    </tr>\n",
       "    <tr>\n",
       "      <th>NATIVE_COLLEGE</th>\n",
       "      <th></th>\n",
       "      <th></th>\n",
       "      <th></th>\n",
       "      <th></th>\n",
       "      <th></th>\n",
       "      <th></th>\n",
       "      <th></th>\n",
       "    </tr>\n",
       "  </thead>\n",
       "  <tbody>\n",
       "    <tr>\n",
       "      <td>AGR</td>\n",
       "      <td>0.0</td>\n",
       "      <td>4.800000</td>\n",
       "      <td>5.666667</td>\n",
       "      <td>5.142857</td>\n",
       "      <td>4.482759</td>\n",
       "      <td>3.428571</td>\n",
       "      <td>5.297872</td>\n",
       "    </tr>\n",
       "    <tr>\n",
       "      <td>BUS</td>\n",
       "      <td>0.0</td>\n",
       "      <td>4.631579</td>\n",
       "      <td>4.000000</td>\n",
       "      <td>5.666667</td>\n",
       "      <td>4.250000</td>\n",
       "      <td>6.571429</td>\n",
       "      <td>5.457627</td>\n",
       "    </tr>\n",
       "    <tr>\n",
       "      <td>DES</td>\n",
       "      <td>6.0</td>\n",
       "      <td>5.000000</td>\n",
       "      <td>4.000000</td>\n",
       "      <td>3.000000</td>\n",
       "      <td>3.266667</td>\n",
       "      <td>5.000000</td>\n",
       "      <td>5.695652</td>\n",
       "    </tr>\n",
       "    <tr>\n",
       "      <td>ENG</td>\n",
       "      <td>5.5</td>\n",
       "      <td>4.730159</td>\n",
       "      <td>4.857143</td>\n",
       "      <td>6.100000</td>\n",
       "      <td>3.302326</td>\n",
       "      <td>6.000000</td>\n",
       "      <td>5.881356</td>\n",
       "    </tr>\n",
       "    <tr>\n",
       "      <td>LA</td>\n",
       "      <td>0.0</td>\n",
       "      <td>4.428571</td>\n",
       "      <td>4.750000</td>\n",
       "      <td>5.000000</td>\n",
       "      <td>3.647059</td>\n",
       "      <td>4.600000</td>\n",
       "      <td>5.414286</td>\n",
       "    </tr>\n",
       "    <tr>\n",
       "      <td>SM</td>\n",
       "      <td>7.0</td>\n",
       "      <td>4.190476</td>\n",
       "      <td>5.200000</td>\n",
       "      <td>0.000000</td>\n",
       "      <td>3.625000</td>\n",
       "      <td>5.000000</td>\n",
       "      <td>5.522222</td>\n",
       "    </tr>\n",
       "  </tbody>\n",
       "</table>\n",
       "</div>"
      ],
      "text/plain": [
       "ETHNICITY       AMIND     ASIAN     BLACK   DECLINE     HISPA   TWOMORE  \\\n",
       "NATIVE_COLLEGE                                                            \n",
       "AGR               0.0  4.800000  5.666667  5.142857  4.482759  3.428571   \n",
       "BUS               0.0  4.631579  4.000000  5.666667  4.250000  6.571429   \n",
       "DES               6.0  5.000000  4.000000  3.000000  3.266667  5.000000   \n",
       "ENG               5.5  4.730159  4.857143  6.100000  3.302326  6.000000   \n",
       "LA                0.0  4.428571  4.750000  5.000000  3.647059  4.600000   \n",
       "SM                7.0  4.190476  5.200000  0.000000  3.625000  5.000000   \n",
       "\n",
       "ETHNICITY          WHITE  \n",
       "NATIVE_COLLEGE            \n",
       "AGR             5.297872  \n",
       "BUS             5.457627  \n",
       "DES             5.695652  \n",
       "ENG             5.881356  \n",
       "LA              5.414286  \n",
       "SM              5.522222  "
      ]
     },
     "execution_count": 12,
     "metadata": {},
     "output_type": "execute_result"
    }
   ],
   "source": [
    "fathers_churn = churn_data.groupby(['NATIVE_COLLEGE','ETHNICITY'])['FathersEd'].mean().unstack('ETHNICITY').fillna(0)\n",
    "fathers_churn"
   ]
  },
  {
   "cell_type": "code",
   "execution_count": 13,
   "metadata": {},
   "outputs": [
    {
     "data": {
      "text/html": [
       "<div>\n",
       "<style scoped>\n",
       "    .dataframe tbody tr th:only-of-type {\n",
       "        vertical-align: middle;\n",
       "    }\n",
       "\n",
       "    .dataframe tbody tr th {\n",
       "        vertical-align: top;\n",
       "    }\n",
       "\n",
       "    .dataframe thead th {\n",
       "        text-align: right;\n",
       "    }\n",
       "</style>\n",
       "<table border=\"1\" class=\"dataframe\">\n",
       "  <thead>\n",
       "    <tr style=\"text-align: right;\">\n",
       "      <th>ETHNICITY</th>\n",
       "      <th>AMIND</th>\n",
       "      <th>ASIAN</th>\n",
       "      <th>BLACK</th>\n",
       "      <th>DECLINE</th>\n",
       "      <th>HISPA</th>\n",
       "      <th>TWOMORE</th>\n",
       "      <th>WHITE</th>\n",
       "    </tr>\n",
       "    <tr>\n",
       "      <th>NATIVE_COLLEGE</th>\n",
       "      <th></th>\n",
       "      <th></th>\n",
       "      <th></th>\n",
       "      <th></th>\n",
       "      <th></th>\n",
       "      <th></th>\n",
       "      <th></th>\n",
       "    </tr>\n",
       "  </thead>\n",
       "  <tbody>\n",
       "    <tr>\n",
       "      <td>AGR</td>\n",
       "      <td>4.823529</td>\n",
       "      <td>5.246575</td>\n",
       "      <td>4.800000</td>\n",
       "      <td>5.407895</td>\n",
       "      <td>4.165625</td>\n",
       "      <td>5.186603</td>\n",
       "      <td>5.555556</td>\n",
       "    </tr>\n",
       "    <tr>\n",
       "      <td>BUS</td>\n",
       "      <td>5.625000</td>\n",
       "      <td>5.039660</td>\n",
       "      <td>5.250000</td>\n",
       "      <td>6.000000</td>\n",
       "      <td>4.056701</td>\n",
       "      <td>5.546875</td>\n",
       "      <td>5.773305</td>\n",
       "    </tr>\n",
       "    <tr>\n",
       "      <td>DES</td>\n",
       "      <td>5.400000</td>\n",
       "      <td>5.039648</td>\n",
       "      <td>5.307692</td>\n",
       "      <td>5.190476</td>\n",
       "      <td>3.816092</td>\n",
       "      <td>5.674157</td>\n",
       "      <td>5.840220</td>\n",
       "    </tr>\n",
       "    <tr>\n",
       "      <td>ENG</td>\n",
       "      <td>5.333333</td>\n",
       "      <td>5.091216</td>\n",
       "      <td>5.250000</td>\n",
       "      <td>5.718750</td>\n",
       "      <td>3.797101</td>\n",
       "      <td>5.510460</td>\n",
       "      <td>5.872824</td>\n",
       "    </tr>\n",
       "    <tr>\n",
       "      <td>LA</td>\n",
       "      <td>5.307692</td>\n",
       "      <td>5.323276</td>\n",
       "      <td>4.523810</td>\n",
       "      <td>5.705882</td>\n",
       "      <td>4.498024</td>\n",
       "      <td>5.459770</td>\n",
       "      <td>5.750000</td>\n",
       "    </tr>\n",
       "    <tr>\n",
       "      <td>SM</td>\n",
       "      <td>5.416667</td>\n",
       "      <td>4.942529</td>\n",
       "      <td>4.444444</td>\n",
       "      <td>5.677966</td>\n",
       "      <td>4.104762</td>\n",
       "      <td>5.585987</td>\n",
       "      <td>5.715918</td>\n",
       "    </tr>\n",
       "  </tbody>\n",
       "</table>\n",
       "</div>"
      ],
      "text/plain": [
       "ETHNICITY          AMIND     ASIAN     BLACK   DECLINE     HISPA   TWOMORE  \\\n",
       "NATIVE_COLLEGE                                                               \n",
       "AGR             4.823529  5.246575  4.800000  5.407895  4.165625  5.186603   \n",
       "BUS             5.625000  5.039660  5.250000  6.000000  4.056701  5.546875   \n",
       "DES             5.400000  5.039648  5.307692  5.190476  3.816092  5.674157   \n",
       "ENG             5.333333  5.091216  5.250000  5.718750  3.797101  5.510460   \n",
       "LA              5.307692  5.323276  4.523810  5.705882  4.498024  5.459770   \n",
       "SM              5.416667  4.942529  4.444444  5.677966  4.104762  5.585987   \n",
       "\n",
       "ETHNICITY          WHITE  \n",
       "NATIVE_COLLEGE            \n",
       "AGR             5.555556  \n",
       "BUS             5.773305  \n",
       "DES             5.840220  \n",
       "ENG             5.872824  \n",
       "LA              5.750000  \n",
       "SM              5.715918  "
      ]
     },
     "execution_count": 13,
     "metadata": {},
     "output_type": "execute_result"
    }
   ],
   "source": [
    "fathers_pass = no_churn_data.groupby(['NATIVE_COLLEGE','ETHNICITY'])['FathersEd'].mean().unstack('ETHNICITY').fillna(0)\n",
    "fathers_pass"
   ]
  },
  {
   "cell_type": "code",
   "execution_count": 14,
   "metadata": {},
   "outputs": [
    {
     "ename": "NameError",
     "evalue": "name 'plt' is not defined",
     "output_type": "error",
     "traceback": [
      "\u001b[0;31m---------------------------------------------------------------------------\u001b[0m",
      "\u001b[0;31mNameError\u001b[0m                                 Traceback (most recent call last)",
      "\u001b[0;32m<ipython-input-14-d45b79a6528b>\u001b[0m in \u001b[0;36m<module>\u001b[0;34m\u001b[0m\n\u001b[1;32m      3\u001b[0m \u001b[0;34m\u001b[0m\u001b[0m\n\u001b[1;32m      4\u001b[0m \u001b[0;32mfor\u001b[0m \u001b[0mi\u001b[0m\u001b[0;34m,\u001b[0m\u001b[0mcol\u001b[0m \u001b[0;32min\u001b[0m \u001b[0menumerate\u001b[0m\u001b[0;34m(\u001b[0m\u001b[0mfathers_churn\u001b[0m\u001b[0;34m.\u001b[0m\u001b[0mcolumns\u001b[0m\u001b[0;34m)\u001b[0m\u001b[0;34m:\u001b[0m\u001b[0;34m\u001b[0m\u001b[0m\n\u001b[0;32m----> 5\u001b[0;31m     \u001b[0mplt\u001b[0m\u001b[0;34m.\u001b[0m\u001b[0msubplot\u001b[0m\u001b[0;34m(\u001b[0m\u001b[0;36m14\u001b[0m\u001b[0;34m,\u001b[0m\u001b[0;36m2\u001b[0m\u001b[0;34m,\u001b[0m\u001b[0mi\u001b[0m\u001b[0;34m+\u001b[0m\u001b[0;36m1\u001b[0m\u001b[0;34m)\u001b[0m\u001b[0;34m\u001b[0m\u001b[0m\n\u001b[0m\u001b[1;32m      6\u001b[0m     \u001b[0mplt\u001b[0m\u001b[0;34m.\u001b[0m\u001b[0mbar\u001b[0m\u001b[0;34m(\u001b[0m\u001b[0mfathers_churn\u001b[0m\u001b[0;34m.\u001b[0m\u001b[0mindex\u001b[0m\u001b[0;34m,\u001b[0m\u001b[0mfathers_churn\u001b[0m\u001b[0;34m[\u001b[0m\u001b[0mcol\u001b[0m\u001b[0;34m]\u001b[0m\u001b[0;34m,\u001b[0m \u001b[0malign\u001b[0m\u001b[0;34m=\u001b[0m\u001b[0;34m'center'\u001b[0m\u001b[0;34m,\u001b[0m\u001b[0mlabel\u001b[0m\u001b[0;34m=\u001b[0m\u001b[0;34m'churned'\u001b[0m\u001b[0;34m)\u001b[0m\u001b[0;34m\u001b[0m\u001b[0m\n\u001b[1;32m      7\u001b[0m     \u001b[0mplt\u001b[0m\u001b[0;34m.\u001b[0m\u001b[0mbar\u001b[0m\u001b[0;34m(\u001b[0m\u001b[0mfathers_pass\u001b[0m\u001b[0;34m.\u001b[0m\u001b[0mindex\u001b[0m\u001b[0;34m,\u001b[0m\u001b[0mfathers_pass\u001b[0m\u001b[0;34m[\u001b[0m\u001b[0mcol\u001b[0m\u001b[0;34m]\u001b[0m\u001b[0;34m,\u001b[0m\u001b[0malign\u001b[0m\u001b[0;34m=\u001b[0m\u001b[0;34m'center'\u001b[0m\u001b[0;34m,\u001b[0m\u001b[0mlabel\u001b[0m \u001b[0;34m=\u001b[0m \u001b[0;34m'persisted'\u001b[0m\u001b[0;34m)\u001b[0m\u001b[0;34m\u001b[0m\u001b[0m\n",
      "\u001b[0;31mNameError\u001b[0m: name 'plt' is not defined"
     ]
    },
    {
     "data": {
      "text/plain": [
       "<Figure size 1440x1440 with 0 Axes>"
      ]
     },
     "metadata": {},
     "output_type": "display_data"
    }
   ],
   "source": [
    "from matplotlib.pyplot import figure\n",
    "figure(figsize = (20,20))\n",
    "\n",
    "for i,col in enumerate(fathers_churn.columns):\n",
    "    plt.subplot(14,2,i+1)\n",
    "    plt.bar(fathers_churn.index,fathers_churn[col], align='center',label='churned')\n",
    "    plt.bar(fathers_pass.index,fathers_pass[col],align='center',label = 'persisted')\n",
    "    plt.title('Education of '+ ' father across colleges for student of ethncity '+col.lower())\n",
    "    plt.ylabel('Level of Education')\n",
    "    plt.tight_layout()\n",
    "    ax = plt.gca()\n",
    "    handles, labels = ax.get_legend_handles_labels()\n",
    "    plt.legend(handles, labels, loc='upper center',bbox_to_anchor=(1, 0.5))"
   ]
  },
  {
   "cell_type": "markdown",
   "metadata": {},
   "source": [
    "Some observations: include the presence of outliers... the average fathers education for students of a certain ethnicity who churned was occassionally higher than the average fathers education for students who persisted."
   ]
  },
  {
   "cell_type": "code",
   "execution_count": 15,
   "metadata": {},
   "outputs": [
    {
     "data": {
      "text/plain": [
       "WHITE      10773\n",
       "ASIAN       2436\n",
       "HISPA       1800\n",
       "TWOMORE     1098\n",
       "DECLINE      468\n",
       "BLACK        170\n",
       "AMIND         74\n",
       "Name: ETHNICITY, dtype: int64"
      ]
     },
     "execution_count": 15,
     "metadata": {},
     "output_type": "execute_result"
    }
   ],
   "source": [
    "eda_df.ETHNICITY.value_counts()"
   ]
  },
  {
   "cell_type": "code",
   "execution_count": null,
   "metadata": {},
   "outputs": [],
   "source": []
  },
  {
   "cell_type": "code",
   "execution_count": 16,
   "metadata": {},
   "outputs": [],
   "source": [
    "mothers_churn = churn_data.groupby(['NATIVE_COLLEGE','ETHNICITY'])['MothersEd'].mean().unstack('ETHNICITY').fillna(0)\n",
    "mothers_pass = no_churn_data.groupby(['NATIVE_COLLEGE','ETHNICITY'])['MothersEd'].mean().unstack('ETHNICITY').fillna(0)"
   ]
  },
  {
   "cell_type": "code",
   "execution_count": 17,
   "metadata": {},
   "outputs": [
    {
     "ename": "NameError",
     "evalue": "name 'plt' is not defined",
     "output_type": "error",
     "traceback": [
      "\u001b[0;31m---------------------------------------------------------------------------\u001b[0m",
      "\u001b[0;31mNameError\u001b[0m                                 Traceback (most recent call last)",
      "\u001b[0;32m<ipython-input-17-db5888e77023>\u001b[0m in \u001b[0;36m<module>\u001b[0;34m\u001b[0m\n\u001b[1;32m      3\u001b[0m \u001b[0;34m\u001b[0m\u001b[0m\n\u001b[1;32m      4\u001b[0m \u001b[0;32mfor\u001b[0m \u001b[0mi\u001b[0m\u001b[0;34m,\u001b[0m\u001b[0mcol\u001b[0m \u001b[0;32min\u001b[0m \u001b[0menumerate\u001b[0m\u001b[0;34m(\u001b[0m\u001b[0mmothers_churn\u001b[0m\u001b[0;34m.\u001b[0m\u001b[0mcolumns\u001b[0m\u001b[0;34m)\u001b[0m\u001b[0;34m:\u001b[0m\u001b[0;34m\u001b[0m\u001b[0m\n\u001b[0;32m----> 5\u001b[0;31m     \u001b[0mplt\u001b[0m\u001b[0;34m.\u001b[0m\u001b[0msubplot\u001b[0m\u001b[0;34m(\u001b[0m\u001b[0;36m14\u001b[0m\u001b[0;34m,\u001b[0m\u001b[0;36m2\u001b[0m\u001b[0;34m,\u001b[0m\u001b[0mi\u001b[0m\u001b[0;34m+\u001b[0m\u001b[0;36m1\u001b[0m\u001b[0;34m)\u001b[0m\u001b[0;34m\u001b[0m\u001b[0m\n\u001b[0m\u001b[1;32m      6\u001b[0m     \u001b[0mplt\u001b[0m\u001b[0;34m.\u001b[0m\u001b[0mbar\u001b[0m\u001b[0;34m(\u001b[0m\u001b[0mmothers_churn\u001b[0m\u001b[0;34m.\u001b[0m\u001b[0mindex\u001b[0m\u001b[0;34m,\u001b[0m\u001b[0mmothers_churn\u001b[0m\u001b[0;34m[\u001b[0m\u001b[0mcol\u001b[0m\u001b[0;34m]\u001b[0m\u001b[0;34m,\u001b[0m \u001b[0malign\u001b[0m\u001b[0;34m=\u001b[0m\u001b[0;34m'center'\u001b[0m\u001b[0;34m,\u001b[0m\u001b[0mlabel\u001b[0m\u001b[0;34m=\u001b[0m\u001b[0;34m'churned'\u001b[0m\u001b[0;34m)\u001b[0m\u001b[0;34m\u001b[0m\u001b[0m\n\u001b[1;32m      7\u001b[0m     \u001b[0mplt\u001b[0m\u001b[0;34m.\u001b[0m\u001b[0mbar\u001b[0m\u001b[0;34m(\u001b[0m\u001b[0mmothers_pass\u001b[0m\u001b[0;34m.\u001b[0m\u001b[0mindex\u001b[0m\u001b[0;34m,\u001b[0m\u001b[0mmothers_pass\u001b[0m\u001b[0;34m[\u001b[0m\u001b[0mcol\u001b[0m\u001b[0;34m]\u001b[0m\u001b[0;34m,\u001b[0m\u001b[0malign\u001b[0m\u001b[0;34m=\u001b[0m\u001b[0;34m'center'\u001b[0m\u001b[0;34m,\u001b[0m\u001b[0mlabel\u001b[0m \u001b[0;34m=\u001b[0m \u001b[0;34m'persisted'\u001b[0m\u001b[0;34m)\u001b[0m\u001b[0;34m\u001b[0m\u001b[0m\n",
      "\u001b[0;31mNameError\u001b[0m: name 'plt' is not defined"
     ]
    },
    {
     "data": {
      "text/plain": [
       "<Figure size 1440x1440 with 0 Axes>"
      ]
     },
     "metadata": {},
     "output_type": "display_data"
    }
   ],
   "source": [
    "from matplotlib.pyplot import figure\n",
    "figure(figsize = (20,20))\n",
    "\n",
    "for i,col in enumerate(mothers_churn.columns):\n",
    "    plt.subplot(14,2,i+1)\n",
    "    plt.bar(mothers_churn.index,mothers_churn[col], align='center',label='churned')\n",
    "    plt.bar(mothers_pass.index,mothers_pass[col],align='center',label = 'persisted')\n",
    "    plt.title('Education of '+ ' mother across colleges for student of ethncity '+col.lower())\n",
    "    plt.ylabel('Level of Education')\n",
    "    plt.tight_layout()\n",
    "    ax = plt.gca()\n",
    "    handles, labels = ax.get_legend_handles_labels()\n",
    "    plt.legend(handles, labels, loc='upper center',bbox_to_anchor=(1, 0.5))"
   ]
  },
  {
   "cell_type": "markdown",
   "metadata": {},
   "source": [
    "Some observations: include the presence of outliers .. the average mothers education for students of a certain ethnicity who churned was occassionally higher than the average mothers education for students who persisted."
   ]
  }
 ],
 "metadata": {
  "kernelspec": {
   "display_name": "Python 3",
   "language": "python",
   "name": "python3"
  },
  "language_info": {
   "codemirror_mode": {
    "name": "ipython",
    "version": 3
   },
   "file_extension": ".py",
   "mimetype": "text/x-python",
   "name": "python",
   "nbconvert_exporter": "python",
   "pygments_lexer": "ipython3",
   "version": "3.7.4"
  }
 },
 "nbformat": 4,
 "nbformat_minor": 1
}
